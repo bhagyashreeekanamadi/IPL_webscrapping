{
  "nbformat": 4,
  "nbformat_minor": 0,
  "metadata": {
    "colab": {
      "provenance": []
    },
    "kernelspec": {
      "name": "python3",
      "display_name": "Python 3"
    },
    "language_info": {
      "name": "python"
    }
  },
  "cells": [
    {
      "cell_type": "code",
      "execution_count": 1,
      "metadata": {
        "id": "FZ6aXtUXC7pl"
      },
      "outputs": [],
      "source": [
        "from bs4 import BeautifulSoup\n",
        "import pandas as pd\n",
        "import requests\n",
        "import os"
      ]
    },
    {
      "cell_type": "code",
      "source": [
        "urlnew=[\"https://www.espncricinfo.com/series/indian-premier-league-2022-1298423/kolkata-knight-riders-vs-punjab-kings-8th-match-1304054/full-scorecard\"]\n"
      ],
      "metadata": {
        "id": "G8YFXDp7DaVu"
      },
      "execution_count": 2,
      "outputs": []
    },
    {
      "cell_type": "code",
      "source": [
        "def toss(url):\n",
        "  webpage=requests.get(url)\n",
        "  web=webpage.content\n",
        "  soup=BeautifulSoup(web,'html.parser')\n",
        "  for m in soup.find_all('span'):\n",
        "    n=m.text\n",
        "    if \"elected\" in n:\n",
        "      print(n)\n",
        "\n"
      ],
      "metadata": {
        "id": "hLGCRX1YGPse"
      },
      "execution_count": 3,
      "outputs": []
    },
    {
      "cell_type": "code",
      "source": [
        "toss=[toss(url) for url in urlnew]"
      ],
      "metadata": {
        "colab": {
          "base_uri": "https://localhost:8080/"
        },
        "id": "AiNGEZ64Kjdq",
        "outputId": "ef0c0763-5e18-44a8-ba0b-5a660e67e3cd"
      },
      "execution_count": 4,
      "outputs": [
        {
          "output_type": "stream",
          "name": "stdout",
          "text": [
            "Kolkata Knight Riders, elected to field first\n"
          ]
        }
      ]
    },
    {
      "cell_type": "code",
      "source": [
        "def matchwinner(url):\n",
        "  webpage=requests.get(url)\n",
        "  web=webpage.content\n",
        "  soup=BeautifulSoup(web,'html.parser')\n",
        "  for m in soup.find_all('p',class_=\"ds-text-tight-s ds-font-medium ds-truncate ds-text-typo\"):\n",
        "    for span in m.find_all('span'):\n",
        "      print(span.text)\n"
      ],
      "metadata": {
        "id": "Zscpo1jGKrAM"
      },
      "execution_count": 5,
      "outputs": []
    },
    {
      "cell_type": "code",
      "source": [
        "winner=[matchwinner(url) for url in urlnew]"
      ],
      "metadata": {
        "colab": {
          "base_uri": "https://localhost:8080/"
        },
        "id": "RR7OhTn2MX8m",
        "outputId": "551282fd-38c0-4180-b724-c96e2405bc36"
      },
      "execution_count": 6,
      "outputs": [
        {
          "output_type": "stream",
          "name": "stdout",
          "text": [
            "KKR won by 6 wickets (with 33 balls remaining)\n"
          ]
        }
      ]
    },
    {
      "cell_type": "code",
      "source": [
        "def score(url):\n",
        "  webpage=requests.get(url)\n",
        "  web=webpage.content\n",
        "  soup=BeautifulSoup(web,'html.parser')\n",
        "  for m in soup.find_all('div',class_=\"ds-text-compact-m ds-text-typo ds-text-right ds-whitespace-nowrap\"):\n",
        "    for strong in m.find_all('strong'):\n",
        "      print(strong.text)"
      ],
      "metadata": {
        "id": "deqcQ_6hMdIy"
      },
      "execution_count": 7,
      "outputs": []
    },
    {
      "cell_type": "code",
      "source": [
        "scores=[score(url) for url in urlnew]"
      ],
      "metadata": {
        "colab": {
          "base_uri": "https://localhost:8080/"
        },
        "id": "zDlKl6OUNbEi",
        "outputId": "3470532d-7e76-485e-9621-4820deb8f315"
      },
      "execution_count": 8,
      "outputs": [
        {
          "output_type": "stream",
          "name": "stdout",
          "text": [
            "137\n",
            "141/4\n"
          ]
        }
      ]
    },
    {
      "cell_type": "code",
      "source": [
        "def teamname(url):\n",
        "  webpage=requests.get(url)\n",
        "  web=webpage.content\n",
        "  soup=BeautifulSoup(web,'html.parser')\n",
        "  for m in soup.find_all('span',class_=\"ds-text-tight-l ds-font-bold ds-text-typo hover:ds-text-typo-primary ds-block ds-truncate\"):\n",
        "\n",
        "      print(m.text)"
      ],
      "metadata": {
        "id": "5Fc4yrx7N0s5"
      },
      "execution_count": 9,
      "outputs": []
    },
    {
      "cell_type": "code",
      "source": [
        "team=[teamname(url) for url in urlnew]"
      ],
      "metadata": {
        "colab": {
          "base_uri": "https://localhost:8080/"
        },
        "id": "-IH0znq7OBwm",
        "outputId": "cbc5c475-894e-4030-ab3c-5614eead0e3e"
      },
      "execution_count": 10,
      "outputs": [
        {
          "output_type": "stream",
          "name": "stdout",
          "text": [
            "Punjab Kings\n",
            "Kolkata Knight Riders\n"
          ]
        }
      ]
    },
    {
      "cell_type": "code",
      "source": [],
      "metadata": {
        "id": "IWy4sVsFOE8Q"
      },
      "execution_count": 10,
      "outputs": []
    }
  ]
}